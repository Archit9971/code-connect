{
 "cells": [
  {
   "cell_type": "code",
   "execution_count": 8,
   "id": "e62d071b-ffca-479b-b80f-7d426e8c66af",
   "metadata": {},
   "outputs": [
    {
     "name": "stdout",
     "output_type": "stream",
     "text": [
      " Mean Squared Error: 0.028\n",
      " R² Score: 0.71\n",
      " Recommended Topics per Day: 3.20\n",
      " Time per Topic: 1.24 hours\n"
     ]
    }
   ],
   "source": [
    "import pandas as pd\n",
    "import numpy as np\n",
    "from sklearn.model_selection import train_test_split\n",
    "from sklearn.ensemble import RandomForestRegressor\n",
    "from sklearn.multioutput import MultiOutputRegressor\n",
    "from sklearn.metrics import mean_squared_error, r2_score\n",
    "from sklearn.preprocessing import StandardScaler\n",
    "\n",
    "# Sample dataset\n",
    "data = {\n",
    "    'total_topics': [20, 30, 40, 50, 60, 25, 35, 45,30],\n",
    "    'study_hours_per_day': [2, 3, 4, 5, 6, 2.5, 3.5, 4.5,2],\n",
    "    'days_remaining': [5, 10, 15, 20, 25, 7, 12, 18,10],\n",
    "    'topics_per_day': [4, 3, 2.7, 2.5, 2.4, 3.6, 2.9, 2.5,3],\n",
    "    'time_per_topic': [0.5, 1, 1.5, 2, 2.5, 0.7, 1.2, 1.8,1.5]\n",
    "}\n",
    "\n",
    "df = pd.DataFrame(data)\n",
    "\n",
    "\n",
    "X = df[['total_topics', 'study_hours_per_day', 'days_remaining']]\n",
    "y = df[['topics_per_day', 'time_per_topic']]\n",
    "\n",
    "\n",
    "X_train, X_test, y_train, y_test = train_test_split(X, y, test_size=0.2, random_state=42)\n",
    "\n",
    "\n",
    "model = MultiOutputRegressor(RandomForestRegressor(random_state=42))\n",
    "model.fit(X_train, y_train)\n",
    "\n",
    "\n",
    "y_pred = model.predict(X_test)\n",
    "\n",
    "mse = mean_squared_error(y_test, y_pred)\n",
    "r2 = r2_score(y_test, y_pred)\n",
    "\n",
    "print(f\" Mean Squared Error: {mse:.3f}\")\n",
    "print(f\" R² Score: {r2:.2f}\")\n",
    "\n",
    "\n",
    "new_input = pd.DataFrame([[30, 2, 10]], columns=['total_topics', 'study_hours_per_day', 'days_remaining'])\n",
    "prediction = model.predict(new_input)\n",
    "\n",
    "topics_per_day, time_per_topic = prediction[0]\n",
    "\n",
    "print(f\" Recommended Topics per Day: {topics_per_day:.2f}\")\n",
    "print(f\" Time per Topic: {time_per_topic:.2f} hours\")\n"
   ]
  },
  {
   "cell_type": "code",
   "execution_count": null,
   "id": "5558e6ab-ee16-4f91-8ae9-7f16e8bf02a5",
   "metadata": {},
   "outputs": [],
   "source": []
  }
 ],
 "metadata": {
  "kernelspec": {
   "display_name": "Python 3 (ipykernel)",
   "language": "python",
   "name": "python3"
  },
  "language_info": {
   "codemirror_mode": {
    "name": "ipython",
    "version": 3
   },
   "file_extension": ".py",
   "mimetype": "text/x-python",
   "name": "python",
   "nbconvert_exporter": "python",
   "pygments_lexer": "ipython3",
   "version": "3.12.7"
  }
 },
 "nbformat": 4,
 "nbformat_minor": 5
}
